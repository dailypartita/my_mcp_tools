{
 "cells": [
  {
   "cell_type": "code",
   "execution_count": null,
   "metadata": {},
   "outputs": [
    {
     "data": {
      "text/html": [
       "<pre style=\"white-space:pre;overflow-x:auto;line-height:normal;font-family:Menlo,'DejaVu Sans Mono',consolas,'Courier New',monospace\"><span style=\"color: #7fbfbf; text-decoration-color: #7fbfbf\">[04/08/25 00:23:08] </span><span style=\"color: #000080; text-decoration-color: #000080\">INFO    </span> Submitted: respiratory-viruses, activity-levels;                      <a href=\"file:///var/folders/d5/p9dtpz6x2yl217b_d23545br0000gn/T/ipykernel_70795/4061094040.py\" target=\"_blank\"><span style=\"color: #7f7f7f; text-decoration-color: #7f7f7f\">4061094040.py</span></a><span style=\"color: #7f7f7f; text-decoration-color: #7f7f7f\">:</span><a href=\"file:///var/folders/d5/p9dtpz6x2yl217b_d23545br0000gn/T/ipykernel_70795/4061094040.py#48\" target=\"_blank\"><span style=\"color: #7f7f7f; text-decoration-color: #7f7f7f\">48</span></a>\n",
       "</pre>\n"
      ],
      "text/plain": [
       "\u001b[2;36m[04/08/25 00:23:08]\u001b[0m\u001b[2;36m \u001b[0m\u001b[34mINFO    \u001b[0m Submitted: respiratory-viruses, activity-levels;                      \u001b]8;id=2233;file:///var/folders/d5/p9dtpz6x2yl217b_d23545br0000gn/T/ipykernel_70795/4061094040.py\u001b\\\u001b[2m4061094040.py\u001b[0m\u001b]8;;\u001b\\\u001b[2m:\u001b[0m\u001b]8;id=23486;file:///var/folders/d5/p9dtpz6x2yl217b_d23545br0000gn/T/ipykernel_70795/4061094040.py#48\u001b\\\u001b[2m48\u001b[0m\u001b]8;;\u001b\\\n"
      ]
     },
     "metadata": {},
     "output_type": "display_data"
    },
    {
     "data": {
      "text/html": [
       "<pre style=\"white-space:pre;overflow-x:auto;line-height:normal;font-family:Menlo,'DejaVu Sans Mono',consolas,'Courier New',monospace\"><span style=\"color: #7fbfbf; text-decoration-color: #7fbfbf\">                    </span><span style=\"color: #000080; text-decoration-color: #000080\">INFO    </span> Scraping: respiratory-viruses, activity-levels;                       <a href=\"file:///var/folders/d5/p9dtpz6x2yl217b_d23545br0000gn/T/ipykernel_70795/4061094040.py\" target=\"_blank\"><span style=\"color: #7f7f7f; text-decoration-color: #7f7f7f\">4061094040.py</span></a><span style=\"color: #7f7f7f; text-decoration-color: #7f7f7f\">:</span><a href=\"file:///var/folders/d5/p9dtpz6x2yl217b_d23545br0000gn/T/ipykernel_70795/4061094040.py#62\" target=\"_blank\"><span style=\"color: #7f7f7f; text-decoration-color: #7f7f7f\">62</span></a>\n",
       "</pre>\n"
      ],
      "text/plain": [
       "\u001b[2;36m                   \u001b[0m\u001b[2;36m \u001b[0m\u001b[34mINFO    \u001b[0m Scraping: respiratory-viruses, activity-levels;                       \u001b]8;id=76231;file:///var/folders/d5/p9dtpz6x2yl217b_d23545br0000gn/T/ipykernel_70795/4061094040.py\u001b\\\u001b[2m4061094040.py\u001b[0m\u001b]8;;\u001b\\\u001b[2m:\u001b[0m\u001b]8;id=430660;file:///var/folders/d5/p9dtpz6x2yl217b_d23545br0000gn/T/ipykernel_70795/4061094040.py#62\u001b\\\u001b[2m62\u001b[0m\u001b]8;;\u001b\\\n"
      ]
     },
     "metadata": {},
     "output_type": "display_data"
    },
    {
     "data": {
      "text/html": [
       "<pre style=\"white-space:pre;overflow-x:auto;line-height:normal;font-family:Menlo,'DejaVu Sans Mono',consolas,'Courier New',monospace\"><span style=\"color: #7fbfbf; text-decoration-color: #7fbfbf\">[04/08/25 00:23:20] </span><span style=\"color: #000080; text-decoration-color: #000080\">INFO    </span> Completed: respiratory-viruses, activity-levels;                      <a href=\"file:///var/folders/d5/p9dtpz6x2yl217b_d23545br0000gn/T/ipykernel_70795/4061094040.py\" target=\"_blank\"><span style=\"color: #7f7f7f; text-decoration-color: #7f7f7f\">4061094040.py</span></a><span style=\"color: #7f7f7f; text-decoration-color: #7f7f7f\">:</span><a href=\"file:///var/folders/d5/p9dtpz6x2yl217b_d23545br0000gn/T/ipykernel_70795/4061094040.py#59\" target=\"_blank\"><span style=\"color: #7f7f7f; text-decoration-color: #7f7f7f\">59</span></a>\n",
       "</pre>\n"
      ],
      "text/plain": [
       "\u001b[2;36m[04/08/25 00:23:20]\u001b[0m\u001b[2;36m \u001b[0m\u001b[34mINFO    \u001b[0m Completed: respiratory-viruses, activity-levels;                      \u001b]8;id=610966;file:///var/folders/d5/p9dtpz6x2yl217b_d23545br0000gn/T/ipykernel_70795/4061094040.py\u001b\\\u001b[2m4061094040.py\u001b[0m\u001b]8;;\u001b\\\u001b[2m:\u001b[0m\u001b]8;id=408767;file:///var/folders/d5/p9dtpz6x2yl217b_d23545br0000gn/T/ipykernel_70795/4061094040.py#59\u001b\\\u001b[2m59\u001b[0m\u001b]8;;\u001b\\\n"
      ]
     },
     "metadata": {},
     "output_type": "display_data"
    },
    {
     "data": {
      "text/html": [
       "<pre style=\"white-space:pre;overflow-x:auto;line-height:normal;font-family:Menlo,'DejaVu Sans Mono',consolas,'Courier New',monospace\"><span style=\"color: #7fbfbf; text-decoration-color: #7fbfbf\">[04/08/25 00:23:51] </span><span style=\"color: #000080; text-decoration-color: #000080\">INFO    </span> Submitted: covid-data-tracker, #variant-proportions;                  <a href=\"file:///var/folders/d5/p9dtpz6x2yl217b_d23545br0000gn/T/ipykernel_70795/4061094040.py\" target=\"_blank\"><span style=\"color: #7f7f7f; text-decoration-color: #7f7f7f\">4061094040.py</span></a><span style=\"color: #7f7f7f; text-decoration-color: #7f7f7f\">:</span><a href=\"file:///var/folders/d5/p9dtpz6x2yl217b_d23545br0000gn/T/ipykernel_70795/4061094040.py#48\" target=\"_blank\"><span style=\"color: #7f7f7f; text-decoration-color: #7f7f7f\">48</span></a>\n",
       "</pre>\n"
      ],
      "text/plain": [
       "\u001b[2;36m[04/08/25 00:23:51]\u001b[0m\u001b[2;36m \u001b[0m\u001b[34mINFO    \u001b[0m Submitted: covid-data-tracker, #variant-proportions;                  \u001b]8;id=912656;file:///var/folders/d5/p9dtpz6x2yl217b_d23545br0000gn/T/ipykernel_70795/4061094040.py\u001b\\\u001b[2m4061094040.py\u001b[0m\u001b]8;;\u001b\\\u001b[2m:\u001b[0m\u001b]8;id=515195;file:///var/folders/d5/p9dtpz6x2yl217b_d23545br0000gn/T/ipykernel_70795/4061094040.py#48\u001b\\\u001b[2m48\u001b[0m\u001b]8;;\u001b\\\n"
      ]
     },
     "metadata": {},
     "output_type": "display_data"
    },
    {
     "data": {
      "text/html": [
       "<pre style=\"white-space:pre;overflow-x:auto;line-height:normal;font-family:Menlo,'DejaVu Sans Mono',consolas,'Courier New',monospace\"><span style=\"color: #7fbfbf; text-decoration-color: #7fbfbf\">[04/08/25 00:23:52] </span><span style=\"color: #000080; text-decoration-color: #000080\">INFO    </span> Scraping: covid-data-tracker, #variant-proportions;                   <a href=\"file:///var/folders/d5/p9dtpz6x2yl217b_d23545br0000gn/T/ipykernel_70795/4061094040.py\" target=\"_blank\"><span style=\"color: #7f7f7f; text-decoration-color: #7f7f7f\">4061094040.py</span></a><span style=\"color: #7f7f7f; text-decoration-color: #7f7f7f\">:</span><a href=\"file:///var/folders/d5/p9dtpz6x2yl217b_d23545br0000gn/T/ipykernel_70795/4061094040.py#62\" target=\"_blank\"><span style=\"color: #7f7f7f; text-decoration-color: #7f7f7f\">62</span></a>\n",
       "</pre>\n"
      ],
      "text/plain": [
       "\u001b[2;36m[04/08/25 00:23:52]\u001b[0m\u001b[2;36m \u001b[0m\u001b[34mINFO    \u001b[0m Scraping: covid-data-tracker, #variant-proportions;                   \u001b]8;id=21391;file:///var/folders/d5/p9dtpz6x2yl217b_d23545br0000gn/T/ipykernel_70795/4061094040.py\u001b\\\u001b[2m4061094040.py\u001b[0m\u001b]8;;\u001b\\\u001b[2m:\u001b[0m\u001b]8;id=881810;file:///var/folders/d5/p9dtpz6x2yl217b_d23545br0000gn/T/ipykernel_70795/4061094040.py#62\u001b\\\u001b[2m62\u001b[0m\u001b]8;;\u001b\\\n"
      ]
     },
     "metadata": {},
     "output_type": "display_data"
    },
    {
     "data": {
      "text/html": [
       "<pre style=\"white-space:pre;overflow-x:auto;line-height:normal;font-family:Menlo,'DejaVu Sans Mono',consolas,'Courier New',monospace\"><span style=\"color: #7fbfbf; text-decoration-color: #7fbfbf\">[04/08/25 00:24:03] </span><span style=\"color: #000080; text-decoration-color: #000080\">INFO    </span> Completed: covid-data-tracker, #variant-proportions;                  <a href=\"file:///var/folders/d5/p9dtpz6x2yl217b_d23545br0000gn/T/ipykernel_70795/4061094040.py\" target=\"_blank\"><span style=\"color: #7f7f7f; text-decoration-color: #7f7f7f\">4061094040.py</span></a><span style=\"color: #7f7f7f; text-decoration-color: #7f7f7f\">:</span><a href=\"file:///var/folders/d5/p9dtpz6x2yl217b_d23545br0000gn/T/ipykernel_70795/4061094040.py#59\" target=\"_blank\"><span style=\"color: #7f7f7f; text-decoration-color: #7f7f7f\">59</span></a>\n",
       "</pre>\n"
      ],
      "text/plain": [
       "\u001b[2;36m[04/08/25 00:24:03]\u001b[0m\u001b[2;36m \u001b[0m\u001b[34mINFO    \u001b[0m Completed: covid-data-tracker, #variant-proportions;                  \u001b]8;id=242966;file:///var/folders/d5/p9dtpz6x2yl217b_d23545br0000gn/T/ipykernel_70795/4061094040.py\u001b\\\u001b[2m4061094040.py\u001b[0m\u001b]8;;\u001b\\\u001b[2m:\u001b[0m\u001b]8;id=807945;file:///var/folders/d5/p9dtpz6x2yl217b_d23545br0000gn/T/ipykernel_70795/4061094040.py#59\u001b\\\u001b[2m59\u001b[0m\u001b]8;;\u001b\\\n"
      ]
     },
     "metadata": {},
     "output_type": "display_data"
    },
    {
     "data": {
      "text/html": [
       "<pre style=\"white-space:pre;overflow-x:auto;line-height:normal;font-family:Menlo,'DejaVu Sans Mono',consolas,'Courier New',monospace\"><span style=\"color: #7fbfbf; text-decoration-color: #7fbfbf\">[04/08/25 00:24:34] </span><span style=\"color: #000080; text-decoration-color: #000080\">INFO    </span> Submitted: nwss, COVID19-variants                                     <a href=\"file:///var/folders/d5/p9dtpz6x2yl217b_d23545br0000gn/T/ipykernel_70795/4061094040.py\" target=\"_blank\"><span style=\"color: #7f7f7f; text-decoration-color: #7f7f7f\">4061094040.py</span></a><span style=\"color: #7f7f7f; text-decoration-color: #7f7f7f\">:</span><a href=\"file:///var/folders/d5/p9dtpz6x2yl217b_d23545br0000gn/T/ipykernel_70795/4061094040.py#76\" target=\"_blank\"><span style=\"color: #7f7f7f; text-decoration-color: #7f7f7f\">76</span></a>\n",
       "</pre>\n"
      ],
      "text/plain": [
       "\u001b[2;36m[04/08/25 00:24:34]\u001b[0m\u001b[2;36m \u001b[0m\u001b[34mINFO    \u001b[0m Submitted: nwss, COVID19-variants                                     \u001b]8;id=410961;file:///var/folders/d5/p9dtpz6x2yl217b_d23545br0000gn/T/ipykernel_70795/4061094040.py\u001b\\\u001b[2m4061094040.py\u001b[0m\u001b]8;;\u001b\\\u001b[2m:\u001b[0m\u001b]8;id=729450;file:///var/folders/d5/p9dtpz6x2yl217b_d23545br0000gn/T/ipykernel_70795/4061094040.py#76\u001b\\\u001b[2m76\u001b[0m\u001b]8;;\u001b\\\n"
      ]
     },
     "metadata": {},
     "output_type": "display_data"
    },
    {
     "data": {
      "text/html": [
       "<pre style=\"white-space:pre;overflow-x:auto;line-height:normal;font-family:Menlo,'DejaVu Sans Mono',consolas,'Courier New',monospace\"><span style=\"color: #7fbfbf; text-decoration-color: #7fbfbf\">                    </span><span style=\"color: #000080; text-decoration-color: #000080\">INFO    </span> Submitted: nwss, COVID19-nationaltrend                                <a href=\"file:///var/folders/d5/p9dtpz6x2yl217b_d23545br0000gn/T/ipykernel_70795/4061094040.py\" target=\"_blank\"><span style=\"color: #7f7f7f; text-decoration-color: #7f7f7f\">4061094040.py</span></a><span style=\"color: #7f7f7f; text-decoration-color: #7f7f7f\">:</span><a href=\"file:///var/folders/d5/p9dtpz6x2yl217b_d23545br0000gn/T/ipykernel_70795/4061094040.py#76\" target=\"_blank\"><span style=\"color: #7f7f7f; text-decoration-color: #7f7f7f\">76</span></a>\n",
       "</pre>\n"
      ],
      "text/plain": [
       "\u001b[2;36m                   \u001b[0m\u001b[2;36m \u001b[0m\u001b[34mINFO    \u001b[0m Submitted: nwss, COVID19-nationaltrend                                \u001b]8;id=903985;file:///var/folders/d5/p9dtpz6x2yl217b_d23545br0000gn/T/ipykernel_70795/4061094040.py\u001b\\\u001b[2m4061094040.py\u001b[0m\u001b]8;;\u001b\\\u001b[2m:\u001b[0m\u001b]8;id=728723;file:///var/folders/d5/p9dtpz6x2yl217b_d23545br0000gn/T/ipykernel_70795/4061094040.py#76\u001b\\\u001b[2m76\u001b[0m\u001b]8;;\u001b\\\n"
      ]
     },
     "metadata": {},
     "output_type": "display_data"
    },
    {
     "data": {
      "text/html": [
       "<pre style=\"white-space:pre;overflow-x:auto;line-height:normal;font-family:Menlo,'DejaVu Sans Mono',consolas,'Courier New',monospace\"><span style=\"color: #7fbfbf; text-decoration-color: #7fbfbf\">[04/08/25 00:24:35] </span><span style=\"color: #000080; text-decoration-color: #000080\">INFO    </span> Scraping: nwss, COVID19-variants;                                     <a href=\"file:///var/folders/d5/p9dtpz6x2yl217b_d23545br0000gn/T/ipykernel_70795/4061094040.py\" target=\"_blank\"><span style=\"color: #7f7f7f; text-decoration-color: #7f7f7f\">4061094040.py</span></a><span style=\"color: #7f7f7f; text-decoration-color: #7f7f7f\">:</span><a href=\"file:///var/folders/d5/p9dtpz6x2yl217b_d23545br0000gn/T/ipykernel_70795/4061094040.py#90\" target=\"_blank\"><span style=\"color: #7f7f7f; text-decoration-color: #7f7f7f\">90</span></a>\n",
       "</pre>\n"
      ],
      "text/plain": [
       "\u001b[2;36m[04/08/25 00:24:35]\u001b[0m\u001b[2;36m \u001b[0m\u001b[34mINFO    \u001b[0m Scraping: nwss, COVID19-variants;                                     \u001b]8;id=473728;file:///var/folders/d5/p9dtpz6x2yl217b_d23545br0000gn/T/ipykernel_70795/4061094040.py\u001b\\\u001b[2m4061094040.py\u001b[0m\u001b]8;;\u001b\\\u001b[2m:\u001b[0m\u001b]8;id=104830;file:///var/folders/d5/p9dtpz6x2yl217b_d23545br0000gn/T/ipykernel_70795/4061094040.py#90\u001b\\\u001b[2m90\u001b[0m\u001b]8;;\u001b\\\n"
      ]
     },
     "metadata": {},
     "output_type": "display_data"
    },
    {
     "data": {
      "text/html": [
       "<pre style=\"white-space:pre;overflow-x:auto;line-height:normal;font-family:Menlo,'DejaVu Sans Mono',consolas,'Courier New',monospace\"><span style=\"color: #7fbfbf; text-decoration-color: #7fbfbf\">                    </span><span style=\"color: #000080; text-decoration-color: #000080\">INFO    </span> Scraping: nwss, COVID19-nationaltrend;                                <a href=\"file:///var/folders/d5/p9dtpz6x2yl217b_d23545br0000gn/T/ipykernel_70795/4061094040.py\" target=\"_blank\"><span style=\"color: #7f7f7f; text-decoration-color: #7f7f7f\">4061094040.py</span></a><span style=\"color: #7f7f7f; text-decoration-color: #7f7f7f\">:</span><a href=\"file:///var/folders/d5/p9dtpz6x2yl217b_d23545br0000gn/T/ipykernel_70795/4061094040.py#90\" target=\"_blank\"><span style=\"color: #7f7f7f; text-decoration-color: #7f7f7f\">90</span></a>\n",
       "</pre>\n"
      ],
      "text/plain": [
       "\u001b[2;36m                   \u001b[0m\u001b[2;36m \u001b[0m\u001b[34mINFO    \u001b[0m Scraping: nwss, COVID19-nationaltrend;                                \u001b]8;id=392372;file:///var/folders/d5/p9dtpz6x2yl217b_d23545br0000gn/T/ipykernel_70795/4061094040.py\u001b\\\u001b[2m4061094040.py\u001b[0m\u001b]8;;\u001b\\\u001b[2m:\u001b[0m\u001b]8;id=148906;file:///var/folders/d5/p9dtpz6x2yl217b_d23545br0000gn/T/ipykernel_70795/4061094040.py#90\u001b\\\u001b[2m90\u001b[0m\u001b]8;;\u001b\\\n"
      ]
     },
     "metadata": {},
     "output_type": "display_data"
    },
    {
     "data": {
      "text/html": [
       "<pre style=\"white-space:pre;overflow-x:auto;line-height:normal;font-family:Menlo,'DejaVu Sans Mono',consolas,'Courier New',monospace\"><span style=\"color: #7fbfbf; text-decoration-color: #7fbfbf\">[04/08/25 00:24:47] </span><span style=\"color: #000080; text-decoration-color: #000080\">INFO    </span> Completed: nwss, COVID19-nationaltrend; completed                     <a href=\"file:///var/folders/d5/p9dtpz6x2yl217b_d23545br0000gn/T/ipykernel_70795/4061094040.py\" target=\"_blank\"><span style=\"color: #7f7f7f; text-decoration-color: #7f7f7f\">4061094040.py</span></a><span style=\"color: #7f7f7f; text-decoration-color: #7f7f7f\">:</span><a href=\"file:///var/folders/d5/p9dtpz6x2yl217b_d23545br0000gn/T/ipykernel_70795/4061094040.py#87\" target=\"_blank\"><span style=\"color: #7f7f7f; text-decoration-color: #7f7f7f\">87</span></a>\n",
       "</pre>\n"
      ],
      "text/plain": [
       "\u001b[2;36m[04/08/25 00:24:47]\u001b[0m\u001b[2;36m \u001b[0m\u001b[34mINFO    \u001b[0m Completed: nwss, COVID19-nationaltrend; completed                     \u001b]8;id=265700;file:///var/folders/d5/p9dtpz6x2yl217b_d23545br0000gn/T/ipykernel_70795/4061094040.py\u001b\\\u001b[2m4061094040.py\u001b[0m\u001b]8;;\u001b\\\u001b[2m:\u001b[0m\u001b]8;id=704284;file:///var/folders/d5/p9dtpz6x2yl217b_d23545br0000gn/T/ipykernel_70795/4061094040.py#87\u001b\\\u001b[2m87\u001b[0m\u001b]8;;\u001b\\\n"
      ]
     },
     "metadata": {},
     "output_type": "display_data"
    },
    {
     "data": {
      "text/html": [
       "<pre style=\"white-space:pre;overflow-x:auto;line-height:normal;font-family:Menlo,'DejaVu Sans Mono',consolas,'Courier New',monospace\"><span style=\"color: #7fbfbf; text-decoration-color: #7fbfbf\">[04/08/25 00:24:57] </span><span style=\"color: #000080; text-decoration-color: #000080\">INFO    </span> Completed: nwss, COVID19-variants; completed                          <a href=\"file:///var/folders/d5/p9dtpz6x2yl217b_d23545br0000gn/T/ipykernel_70795/4061094040.py\" target=\"_blank\"><span style=\"color: #7f7f7f; text-decoration-color: #7f7f7f\">4061094040.py</span></a><span style=\"color: #7f7f7f; text-decoration-color: #7f7f7f\">:</span><a href=\"file:///var/folders/d5/p9dtpz6x2yl217b_d23545br0000gn/T/ipykernel_70795/4061094040.py#87\" target=\"_blank\"><span style=\"color: #7f7f7f; text-decoration-color: #7f7f7f\">87</span></a>\n",
       "</pre>\n"
      ],
      "text/plain": [
       "\u001b[2;36m[04/08/25 00:24:57]\u001b[0m\u001b[2;36m \u001b[0m\u001b[34mINFO    \u001b[0m Completed: nwss, COVID19-variants; completed                          \u001b]8;id=20675;file:///var/folders/d5/p9dtpz6x2yl217b_d23545br0000gn/T/ipykernel_70795/4061094040.py\u001b\\\u001b[2m4061094040.py\u001b[0m\u001b]8;;\u001b\\\u001b[2m:\u001b[0m\u001b]8;id=921645;file:///var/folders/d5/p9dtpz6x2yl217b_d23545br0000gn/T/ipykernel_70795/4061094040.py#87\u001b\\\u001b[2m87\u001b[0m\u001b]8;;\u001b\\\n"
      ]
     },
     "metadata": {},
     "output_type": "display_data"
    }
   ],
   "source": [
    "import os\n",
    "import json\n",
    "import time\n",
    "import asyncio\n",
    "import logging\n",
    "import aiohttp\n",
    "import requests\n",
    "from datetime import datetime\n",
    "from bs4 import BeautifulSoup\n",
    "from dotenv import load_dotenv\n",
    "from mcp.server.fastmcp import FastMCP\n",
    "\n",
    "load_dotenv()\n",
    "mcp = FastMCP(\"epi-crawl\")\n",
    "time_now = datetime.now().strftime(\"%Y-%m-%d-%H-%M-%S\")\n",
    "\n",
    "class FireCrawl:\n",
    "    def __init__(self, url):\n",
    "        \n",
    "        self.logger = logging.getLogger(__name__)\n",
    "        self.FIRECRAWL_API_KEY = os.getenv('FIRECRAWL_API_KEY')\n",
    "        self.FIRECRAWL_ENDPOINT = os.getenv('FIRECRAWL_ENDPOINT')\n",
    "        self.url = url\n",
    "        self.url_snap = url.split('/')[3] + ', ' + url.split('/')[-1].split('.')[0]\n",
    "        \n",
    "        self.payload = {\n",
    "            \"url\": url,\n",
    "            \"scrapeOptions\": {\n",
    "                \"onlyMainContent\": True,\n",
    "                \"waitFor\": 10,\n",
    "                \"formats\": [\"html\"]\n",
    "            }\n",
    "        }\n",
    "        \n",
    "        self.headers = {\n",
    "            \"Authorization\": f\"Bearer {self.FIRECRAWL_API_KEY}\",\n",
    "            \"Content-Type\": \"application/json\"\n",
    "        }\n",
    "    \n",
    "    def crawl(self) -> BeautifulSoup:\n",
    "        \n",
    "        #POST\n",
    "        response = requests.request(\"POST\", self.FIRECRAWL_ENDPOINT, json=self.payload, headers=self.headers)\n",
    "        response_json = json.loads(response.text)\n",
    "        \n",
    "        while True:\n",
    "            if response_json['success']:\n",
    "                res_url = response_json['url']\n",
    "                self.logger.info(f\"Submitted: {self.url_snap};\")\n",
    "                break\n",
    "            else:\n",
    "                self.logger.error(f\"{self.url_snap}; {response_json['error']}\")\n",
    "                time.sleep(90)\n",
    "        \n",
    "        #GET\n",
    "        while True:\n",
    "            response = requests.request(\"GET\", res_url, headers=self.headers)\n",
    "            response_json = json.loads(response.text)\n",
    "            if response_json['status'] == 'completed':\n",
    "                self.logger.info(f\"Completed: {self.url_snap};\")\n",
    "                break\n",
    "            elif response_json['status'] == 'scraping':\n",
    "                self.logger.info(f\"Scraping: {self.url_snap};\")\n",
    "                time.sleep(10)\n",
    "        soup = BeautifulSoup(response_json['data'][0]['html'], 'html.parser')\n",
    "        return soup\n",
    "\n",
    "    async def crawl_async(self, session) -> BeautifulSoup:\n",
    "        \n",
    "        # POST\n",
    "        async with session.post(self.FIRECRAWL_ENDPOINT, json=self.payload, headers=self.headers) as response:\n",
    "            response_json = await response.json()\n",
    "            \n",
    "            while True:\n",
    "                if response_json['success']:\n",
    "                    res_url = response_json['url'].replace(\"https:\", self.FIRECRAWL_ENDPOINT.split('//')[0])\n",
    "                    self.logger.info(f\"Submitted: {self.url_snap}\")\n",
    "                    break\n",
    "                else:\n",
    "                    self.logger.error(f\"{self.url_snap}; {response_json['error']}\")\n",
    "                    await asyncio.sleep(65)\n",
    "\n",
    "        # GET\n",
    "        while True:\n",
    "            async with session.get(res_url, headers=self.headers) as response:\n",
    "                response_json = await response.json()\n",
    "                if response_json['status'] == 'completed':\n",
    "                    self.logger.info(f\"Completed: {self.url_snap}; {response_json['status']}\")\n",
    "                    break\n",
    "                elif response_json['status'] == 'scraping':\n",
    "                    self.logger.info(f\"Scraping: {self.url_snap};\")\n",
    "                    await asyncio.sleep(10)\n",
    "        soup = BeautifulSoup(response_json['data'][0]['html'], 'html.parser')\n",
    "        return soup\n",
    "\n",
    "@mcp.tool()\n",
    "async def crawl_2_url(url_1, url_2):\n",
    "    async with aiohttp.ClientSession() as session:\n",
    "        tasks = [FireCrawl(url).crawl_async(session) for url in [url_1, url_2]]\n",
    "        soup_list = await asyncio.gather(*tasks)\n",
    "    return soup_list\n",
    "\n",
    "@mcp.tool()\n",
    "async def get_us_epidata():\n",
    "    \n",
    "    url_us = {\n",
    "        'all_respiratory_viruses': {\n",
    "            'summary': 'https://www.cdc.gov/respiratory-viruses/data/activity-levels.html',\n",
    "            'trends': 'https://www.cdc.gov/respiratory-viruses/data/activity-levels.html'\n",
    "        },\n",
    "        'clinical_cov': {\n",
    "            'trends': 'same with all_respiratory_viruses > trends > COVID-19_percent_of_tests_positive',\n",
    "            'variants': 'https://covid.cdc.gov/covid-data-tracker/#variant-proportions'\n",
    "        },\n",
    "        'wastewater_cov': {\n",
    "            'trends': 'https://www.cdc.gov/nwss/rv/COVID19-nationaltrend.html',\n",
    "            'variants': 'https://www.cdc.gov/nwss/rv/COVID19-variants.html'\n",
    "        }\n",
    "    }\n",
    "\n",
    "    ## all_respiratory_viruses & clinical_cov trends\n",
    "    arv_soup = FireCrawl(url_us['all_respiratory_viruses']['summary']).crawl()\n",
    "    arv_summary = arv_soup.find('div', class_='update-snapshot').text.strip()\n",
    "    arv_trends  = []\n",
    "    cc_cov_trends = []\n",
    "    for row in arv_soup.find_all('div', class_='table-container')[-1].find('tbody').find_all('tr'):\n",
    "        cells = row.find_all('td')\n",
    "        td = {\n",
    "            'date': datetime.strptime(cells[0].text.strip(), '%B %d, %Y').strftime('%Y-%m-%d'),\n",
    "            'COVID-19_percent_of_tests_positive': float(cells[1].text.strip()),\n",
    "            'Influenza_percent_of_tests_positive': float(cells[2].text.strip()),\n",
    "            'RSV_percent_of_tests_positive': float(cells[3].text.strip())\n",
    "        }\n",
    "        td_cov = {\n",
    "            'date': datetime.strptime(cells[0].text.strip(), '%B %d, %Y').strftime('%Y-%m-%d'),\n",
    "            'COVID-19_percent_of_tests_positive': float(cells[1].text.strip())\n",
    "        }\n",
    "        arv_trends.append(td)\n",
    "        cc_cov_trends.append(td_cov)\n",
    "    time.sleep(30)\n",
    "    \n",
    "    ## clinical_cov variants\n",
    "    cc_cov_variants_soup = FireCrawl(url_us['clinical_cov']['variants']).crawl()\n",
    "    cc_cov_raw_soup = cc_cov_variants_soup.select('#circulatingVariants')[0]\n",
    "    cc_cov_variants_list = cc_cov_raw_soup.find_all('div', class_ = 'tab-vizHeaderWrapper')\n",
    "    cc_cov_variant_name = cc_cov_variants_list[7:24]\n",
    "    cc_cov_variant_ratio = cc_cov_variants_list[41:58]\n",
    "    cc_cov_variants = {\n",
    "        'date': datetime.strptime(cc_cov_variants_list[-1].text, '%m/%d/%y').strftime('%Y-%m-%d'),\n",
    "        'percentage': ';'.join([f\"{voc.text}:{ratio.text}\" for voc, ratio in zip(cc_cov_variant_name, cc_cov_variant_ratio)])\n",
    "    }\n",
    "    time.sleep(30)\n",
    "    \n",
    "    ## wastewater_cov\n",
    "    ww_cov_soup_list = await crawl_2_url(url_us['wastewater_cov']['trends'], url_us['wastewater_cov']['variants'])\n",
    "    ww_cov_trends = []\n",
    "    for row in ww_cov_soup_list[0].find('div', class_='table-container').find('tbody').find_all('tr'):\n",
    "        td = {\n",
    "            'date': datetime.strptime(row.find('td').text.strip(), '%m/%d/%y').strftime('%Y-%m-%d'),\n",
    "            'COVID-19_NWSS_wastewater_viral_activity_levels': float(row.find_all('td')[1].text.strip())\n",
    "        }\n",
    "        ww_cov_trends.append(td)\n",
    "\n",
    "    ww_cov_variants = []\n",
    "    ww_cov_variants_soup = ww_cov_soup_list[1].find('div', class_='table-container')\n",
    "    ww_cov_variants_name = [i.text.split('Press')[0].strip() for i in ww_cov_variants_soup.find('thead').find_all('th')]\n",
    "    ww_cov_variants_name[0] = 'Date'\n",
    "    for row in ww_cov_variants_soup.find('tbody').find_all('tr'):\n",
    "        cells = row.find_all('td')\n",
    "        data = dict(zip(ww_cov_variants_name, [i.text.strip() for i in cells]))\n",
    "        ww_cov_variants.append({\n",
    "            'date': data['Date'],\n",
    "            'percentage': ';'.join([f\"{voc}:{partio}\" for voc, partio in data.items() if voc != 'Date'])\n",
    "        })\n",
    "    time.sleep(30)\n",
    "\n",
    "    epi_us = {\n",
    "        'all_respiratory_viruses': {\n",
    "            'summary': arv_summary,\n",
    "            'trends': arv_trends\n",
    "        },\n",
    "        'clinical_cov': {\n",
    "            'trends': cc_cov_trends,\n",
    "            'variants': cc_cov_variants\n",
    "        },\n",
    "        'wastewater_cov': {\n",
    "            'trends': ww_cov_trends,\n",
    "            'variants': ww_cov_variants\n",
    "        }\n",
    "    }\n",
    "    \n",
    "    os.makedirs('history') if not os.path.exists('history') else None\n",
    "    with open(f'history/data_us_{time_now}.json', 'w') as f:\n",
    "        json.dump(epi_us, f, indent=4)\n",
    "    \n",
    "    return epi_us\n",
    "\n",
    "if __name__ == \"__main__\":\n",
    "    us_epidata = await get_us_epidata()\n",
    "    print(json.dumps(us_epidata, indent=4))"
   ]
  }
 ],
 "metadata": {
  "kernelspec": {
   "display_name": ".venv",
   "language": "python",
   "name": "python3"
  },
  "language_info": {
   "codemirror_mode": {
    "name": "ipython",
    "version": 3
   },
   "file_extension": ".py",
   "mimetype": "text/x-python",
   "name": "python",
   "nbconvert_exporter": "python",
   "pygments_lexer": "ipython3",
   "version": "3.10.8"
  }
 },
 "nbformat": 4,
 "nbformat_minor": 2
}
