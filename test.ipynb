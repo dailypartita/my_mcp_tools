{
 "cells": [
  {
   "cell_type": "code",
   "execution_count": 1,
   "metadata": {},
   "outputs": [
    {
     "data": {
      "text/html": [
       "<pre style=\"white-space:pre;overflow-x:auto;line-height:normal;font-family:Menlo,'DejaVu Sans Mono',consolas,'Courier New',monospace\"><span style=\"color: #7fbfbf; text-decoration-color: #7fbfbf\">[05/15/25 10:52:25] </span><span style=\"color: #000080; text-decoration-color: #000080\">INFO    </span> Submitted: data.who.int/dashboards/covid19/summary;                        <a href=\"file:///data/ykx/epi-crawl/utils.py\" target=\"_blank\"><span style=\"color: #7f7f7f; text-decoration-color: #7f7f7f\">utils.py</span></a><span style=\"color: #7f7f7f; text-decoration-color: #7f7f7f\">:</span><a href=\"file:///data/ykx/epi-crawl/utils.py#55\" target=\"_blank\"><span style=\"color: #7f7f7f; text-decoration-color: #7f7f7f\">55</span></a>\n",
       "</pre>\n"
      ],
      "text/plain": [
       "\u001b[2;36m[05/15/25 10:52:25]\u001b[0m\u001b[2;36m \u001b[0m\u001b[34mINFO    \u001b[0m Submitted: data.who.int/dashboards/covid19/summary;                        \u001b]8;id=455792;file:///data/ykx/epi-crawl/utils.py\u001b\\\u001b[2mutils.py\u001b[0m\u001b]8;;\u001b\\\u001b[2m:\u001b[0m\u001b]8;id=595457;file:///data/ykx/epi-crawl/utils.py#55\u001b\\\u001b[2m55\u001b[0m\u001b]8;;\u001b\\\n"
      ]
     },
     "metadata": {},
     "output_type": "display_data"
    },
    {
     "data": {
      "text/html": [
       "<pre style=\"white-space:pre;overflow-x:auto;line-height:normal;font-family:Menlo,'DejaVu Sans Mono',consolas,'Courier New',monospace\"><span style=\"color: #7fbfbf; text-decoration-color: #7fbfbf\">[05/15/25 10:52:26] </span><span style=\"color: #000080; text-decoration-color: #000080\">INFO    </span> Scraping: data.who.int/dashboards/covid19/summary;                         <a href=\"file:///data/ykx/epi-crawl/utils.py\" target=\"_blank\"><span style=\"color: #7f7f7f; text-decoration-color: #7f7f7f\">utils.py</span></a><span style=\"color: #7f7f7f; text-decoration-color: #7f7f7f\">:</span><a href=\"file:///data/ykx/epi-crawl/utils.py#72\" target=\"_blank\"><span style=\"color: #7f7f7f; text-decoration-color: #7f7f7f\">72</span></a>\n",
       "</pre>\n"
      ],
      "text/plain": [
       "\u001b[2;36m[05/15/25 10:52:26]\u001b[0m\u001b[2;36m \u001b[0m\u001b[34mINFO    \u001b[0m Scraping: data.who.int/dashboards/covid19/summary;                         \u001b]8;id=732155;file:///data/ykx/epi-crawl/utils.py\u001b\\\u001b[2mutils.py\u001b[0m\u001b]8;;\u001b\\\u001b[2m:\u001b[0m\u001b]8;id=71050;file:///data/ykx/epi-crawl/utils.py#72\u001b\\\u001b[2m72\u001b[0m\u001b]8;;\u001b\\\n"
      ]
     },
     "metadata": {},
     "output_type": "display_data"
    },
    {
     "data": {
      "text/html": [
       "<pre style=\"white-space:pre;overflow-x:auto;line-height:normal;font-family:Menlo,'DejaVu Sans Mono',consolas,'Courier New',monospace\"><span style=\"color: #7fbfbf; text-decoration-color: #7fbfbf\">[05/15/25 10:52:38] </span><span style=\"color: #000080; text-decoration-color: #000080\">INFO    </span> Completed: data.who.int/dashboards/covid19/summary;                        <a href=\"file:///data/ykx/epi-crawl/utils.py\" target=\"_blank\"><span style=\"color: #7f7f7f; text-decoration-color: #7f7f7f\">utils.py</span></a><span style=\"color: #7f7f7f; text-decoration-color: #7f7f7f\">:</span><a href=\"file:///data/ykx/epi-crawl/utils.py#69\" target=\"_blank\"><span style=\"color: #7f7f7f; text-decoration-color: #7f7f7f\">69</span></a>\n",
       "</pre>\n"
      ],
      "text/plain": [
       "\u001b[2;36m[05/15/25 10:52:38]\u001b[0m\u001b[2;36m \u001b[0m\u001b[34mINFO    \u001b[0m Completed: data.who.int/dashboards/covid19/summary;                        \u001b]8;id=722000;file:///data/ykx/epi-crawl/utils.py\u001b\\\u001b[2mutils.py\u001b[0m\u001b]8;;\u001b\\\u001b[2m:\u001b[0m\u001b]8;id=222604;file:///data/ykx/epi-crawl/utils.py#69\u001b\\\u001b[2m69\u001b[0m\u001b]8;;\u001b\\\n"
      ]
     },
     "metadata": {},
     "output_type": "display_data"
    }
   ],
   "source": [
    "import re\n",
    "import time\n",
    "import json\n",
    "import os\n",
    "from utils import FireCrawl, crawl_2_url\n",
    "from datetime import datetime, timezone\n",
    "from pymongo import MongoClient\n",
    "\n",
    "\n",
    "\n",
    "TIME_RUN = datetime.now(timezone.utc).strftime('%Y-%m-%d-%H-%M-%S')\n",
    "TIME_NOW = datetime.now(timezone.utc)\n",
    "WHO_URL_LIST = [\n",
    "    'https://data.who.int/dashboards/covid19/summary',\n",
    "    'https://data.who.int/dashboards/covid19/circulation',\n",
    "    'https://data.who.int/dashboards/covid19/cases',\n",
    "    'https://data.who.int/dashboards/covid19/deaths',\n",
    "    'https://data.who.int/dashboards/covid19/hospitalizations',\n",
    "    'https://data.who.int/dashboards/covid19/vaccines',\n",
    "    'https://data.who.int/dashboards/covid19/variants'\n",
    "]\n",
    "who_summary_soup = FireCrawl(WHO_URL_LIST[0]).crawl()\n",
    "# time.sleep(30)\n",
    "# who_cirulation_soup = FireCrawl(WHO_URL_LIST[1]).crawl()\n",
    "# time.sleep(30)\n",
    "# who_cases_soup = FireCrawl(WHO_URL_LIST[2]).crawl()\n",
    "# time.sleep(30)\n",
    "# who_deaths_soup = FireCrawl(WHO_URL_LIST[3]).crawl()\n",
    "# time.sleep(30)\n",
    "# who_hospitalizations_soup = FireCrawl(WHO_URL_LIST[4]).crawl()\n",
    "# time.sleep(30)\n",
    "# who_vaccines_soup = FireCrawl(WHO_URL_LIST[5]).crawl()\n",
    "# time.sleep(30)\n",
    "# who_variants_soup = FireCrawl(WHO_URL_LIST[6]).crawl()\n",
    "\n"
   ]
  },
  {
   "cell_type": "code",
   "execution_count": null,
   "metadata": {},
   "outputs": [
    {
     "data": {
      "text/plain": [
       "[{'date': '2025-05-15 02:52:24.891788+00:00',\n",
       "  'summary_circulation': 'In the week of 21 to 27 April 2025, a total of 49,320 samples were tested for SARS-CoV-2, the virus that causes COVID-19, across 76 countries. WHO collects this data from a global network of sentinel and systematic virologic surveillance sites. Out of these, 1,604 (3.2%) samples tested positive for the virus (Table 1.1 and 1.2). During this period, overall SARS-CoV-2 activity was low. Compared to the previous seven days, most reporting countries showed a stable trend. An increasing trend or elevated activity was reported from a few countries in Western Africa, Central America and Caribbean, Eastern Europe, South West Europe, and Western Asia.',\n",
       "  'summary_cases': 'In the 28-day period from 31 March 2025 to 27 April 2025, 89 countries across five WHO regions reported new COVID-19 cases. During this 28-day period, a total of 25,463 new cases were reported, which is a decrease compared to the 59,024 new cases reported from 92 countries in the previous 28-day period (Table 2.1 and 2.2). Fourteen countries from Africa, the Americas, and Europe showed an increase in new cases of over 10%.',\n",
       "  'summary_variant': 'WHO is currently tracking several SARS-CoV-2 variants:Variants of Interest: JN.1Variants Under Monitoring: LP.8.1, XEC, KP.3, KP.3.1.1, LB.1The most prevalent variant, LP.8.1, accounted for 31% of all submitted sequences in the week ending on 27 April 2025 which is an increase from 29% in the week ending on 30 March 2025. JN.1 accounted for 26% of all submitted sequences in the week ending on 27 April 2025, an increase from 20% in the week ending on 30 March 2025 (Table 3).\\nDuring this reporting period, some other variants showed an increasing trend. Available evidence suggests that JN.1, XEC, and LP.8.1 do not pose additional public health risks relative to other currently circulating SARS-CoV-2 variants.\\nAt the regional level, LP.8.1 declined in the Americas, remained stable in the Western Pacific Region, and increased in the European Region. XEC and JN.1 remained stable or slightly decreased in all reporting countries.\\n',\n",
       "  'summary_severity': 'In the 28-day period from 31 March 2025 to 27 April 2025, a total of 7,030 new COVID-19 hospitalizations were reported from 38 countries, and 257 new ICU admissions were reported from 33 countries across four WHO regions (Tables 4.1 to 4.4). Among the 31 countries that consistently reported hospitalizations during the past and previous 28-day periods, five countries from the Americas, Europe, and the Western Pacific showed an increasing trend. Similarly, among the 24 countries that consistently reported ICU admissions during the past and previous 28-day periods, five countries from the Americas, Europe, and the Western Pacific showed an increasing trend.',\n",
       "  'summary_death': 'In the 28-day period from 31 March 2025 to 27 April 2025, 38 countries across four WHO regions reported new COVID-19 deaths. During this 28-day period, a total of 1,458 new deaths were reported, which is a decrease compared to the 2,350 new deaths reported from 43 countries in the previous 28-day period (Table 5.1 and 5.2). Seven countries from the Americas and Europe showed an increase in new deaths of over 10%. In March 2025, 88% of reported deaths with age information occurred in the population aged 65 and over.'}]"
      ]
     },
     "execution_count": 32,
     "metadata": {},
     "output_type": "execute_result"
    }
   ],
   "source": [
    "# 0. summary\n",
    "p1_soup = who_summary_soup.find_all('div', attrs={'id': 'PageContent_C493_Col00', 'class': 'sf_colsIn col-md-12'})[0]\n",
    "p2_soup = who_summary_soup.find_all('div', attrs={'id': 'PageContent_C629_Col00', 'class': 'sf_colsIn col-md-9'})[0]\n",
    "WHO_realtime_summary = [\n",
    "    {\n",
    "        'date': str(TIME_NOW.replace(tzinfo=timezone.utc)),\n",
    "        'summary_circulation': p1_soup.find_all('p')[0].text,\n",
    "        'summary_cases': p1_soup.find_all('p')[10].text,\n",
    "        'summary_variant': p1_soup.find_all('div', class_ = 'sfContentBlock sf-Long-text')[9].text,\n",
    "        'summary_severity': p2_soup.find_all('p')[0].text,\n",
    "        'summary_death': p2_soup.find_all('p')[10].text\n",
    "    }\n",
    "]\n",
    "WHO_realtime_summary\n"
   ]
  },
  {
   "cell_type": "code",
   "execution_count": 31,
   "metadata": {},
   "outputs": [
    {
     "data": {
      "text/plain": [
       "('In the 28-day period from 31 March 2025 to 27 April 2025, 38 countries across four WHO regions reported new COVID-19 deaths. During this 28-day period, a total of 1,458 new deaths were reported, which is a decrease compared to the 2,350 new deaths reported from 43 countries in the previous 28-day period (Table 5.1 and 5.2). Seven countries from the Americas and Europe showed an increase in new deaths of over 10%. In March 2025, 88% of reported deaths with age information occurred in the population aged 65 and over.',)"
      ]
     },
     "execution_count": 31,
     "metadata": {},
     "output_type": "execute_result"
    }
   ],
   "source": []
  },
  {
   "cell_type": "code",
   "execution_count": null,
   "metadata": {},
   "outputs": [],
   "source": []
  }
 ],
 "metadata": {
  "kernelspec": {
   "display_name": ".venv",
   "language": "python",
   "name": "python3"
  },
  "language_info": {
   "codemirror_mode": {
    "name": "ipython",
    "version": 3
   },
   "file_extension": ".py",
   "mimetype": "text/x-python",
   "name": "python",
   "nbconvert_exporter": "python",
   "pygments_lexer": "ipython3",
   "version": "3.10.12"
  }
 },
 "nbformat": 4,
 "nbformat_minor": 2
}
